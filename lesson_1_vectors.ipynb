{
  "nbformat": 4,
  "nbformat_minor": 0,
  "metadata": {
    "colab": {
      "provenance": [],
      "toc_visible": true,
      "collapsed_sections": [
        "ZcvJtK8p6wmz",
        "--aG42ZcgTEc",
        "_hQTXBuAG-J0"
      ],
      "authorship_tag": "ABX9TyOJh3u9A/4DjVZefCJXBhGm",
      "include_colab_link": true
    },
    "kernelspec": {
      "name": "python3",
      "display_name": "Python 3"
    },
    "language_info": {
      "name": "python"
    },
    "widgets": {
      "application/vnd.jupyter.widget-state+json": {
        "0c07b0eae69f456aafc34e87d15c06aa": {
          "model_module": "@jupyter-widgets/controls",
          "model_name": "HBoxModel",
          "model_module_version": "1.5.0",
          "state": {
            "_dom_classes": [],
            "_model_module": "@jupyter-widgets/controls",
            "_model_module_version": "1.5.0",
            "_model_name": "HBoxModel",
            "_view_count": null,
            "_view_module": "@jupyter-widgets/controls",
            "_view_module_version": "1.5.0",
            "_view_name": "HBoxView",
            "box_style": "",
            "children": [
              "IPY_MODEL_d123189458f242d8bc590a3ec5546c59",
              "IPY_MODEL_f8694605fc504e17ab182222ee9779eb",
              "IPY_MODEL_1c281851b3bb4098b5798f235444ead4"
            ],
            "layout": "IPY_MODEL_c87a39cb5c3f44cf958084dd5a3bcbe0"
          }
        },
        "d123189458f242d8bc590a3ec5546c59": {
          "model_module": "@jupyter-widgets/controls",
          "model_name": "HTMLModel",
          "model_module_version": "1.5.0",
          "state": {
            "_dom_classes": [],
            "_model_module": "@jupyter-widgets/controls",
            "_model_module_version": "1.5.0",
            "_model_name": "HTMLModel",
            "_view_count": null,
            "_view_module": "@jupyter-widgets/controls",
            "_view_module_version": "1.5.0",
            "_view_name": "HTMLView",
            "description": "",
            "description_tooltip": null,
            "layout": "IPY_MODEL_ba36f946f30b4dd9b6c4d082a73c40bc",
            "placeholder": "​",
            "style": "IPY_MODEL_8343fbdc1d984751940abed3f2cdb807",
            "value": "Computing transition probabilities: 100%"
          }
        },
        "f8694605fc504e17ab182222ee9779eb": {
          "model_module": "@jupyter-widgets/controls",
          "model_name": "FloatProgressModel",
          "model_module_version": "1.5.0",
          "state": {
            "_dom_classes": [],
            "_model_module": "@jupyter-widgets/controls",
            "_model_module_version": "1.5.0",
            "_model_name": "FloatProgressModel",
            "_view_count": null,
            "_view_module": "@jupyter-widgets/controls",
            "_view_module_version": "1.5.0",
            "_view_name": "ProgressView",
            "bar_style": "success",
            "description": "",
            "description_tooltip": null,
            "layout": "IPY_MODEL_b39b09914b38471e9b0311b0f9ec309b",
            "max": 5,
            "min": 0,
            "orientation": "horizontal",
            "style": "IPY_MODEL_29d3c363b29a418fb82759ed27e534ee",
            "value": 5
          }
        },
        "1c281851b3bb4098b5798f235444ead4": {
          "model_module": "@jupyter-widgets/controls",
          "model_name": "HTMLModel",
          "model_module_version": "1.5.0",
          "state": {
            "_dom_classes": [],
            "_model_module": "@jupyter-widgets/controls",
            "_model_module_version": "1.5.0",
            "_model_name": "HTMLModel",
            "_view_count": null,
            "_view_module": "@jupyter-widgets/controls",
            "_view_module_version": "1.5.0",
            "_view_name": "HTMLView",
            "description": "",
            "description_tooltip": null,
            "layout": "IPY_MODEL_c8398cfbe05c4ce0bd235b7bcb6a3f47",
            "placeholder": "​",
            "style": "IPY_MODEL_9881df8e21464bf69bb13b9dffeeaacb",
            "value": " 5/5 [00:00&lt;00:00, 133.24it/s]"
          }
        },
        "c87a39cb5c3f44cf958084dd5a3bcbe0": {
          "model_module": "@jupyter-widgets/base",
          "model_name": "LayoutModel",
          "model_module_version": "1.2.0",
          "state": {
            "_model_module": "@jupyter-widgets/base",
            "_model_module_version": "1.2.0",
            "_model_name": "LayoutModel",
            "_view_count": null,
            "_view_module": "@jupyter-widgets/base",
            "_view_module_version": "1.2.0",
            "_view_name": "LayoutView",
            "align_content": null,
            "align_items": null,
            "align_self": null,
            "border": null,
            "bottom": null,
            "display": null,
            "flex": null,
            "flex_flow": null,
            "grid_area": null,
            "grid_auto_columns": null,
            "grid_auto_flow": null,
            "grid_auto_rows": null,
            "grid_column": null,
            "grid_gap": null,
            "grid_row": null,
            "grid_template_areas": null,
            "grid_template_columns": null,
            "grid_template_rows": null,
            "height": null,
            "justify_content": null,
            "justify_items": null,
            "left": null,
            "margin": null,
            "max_height": null,
            "max_width": null,
            "min_height": null,
            "min_width": null,
            "object_fit": null,
            "object_position": null,
            "order": null,
            "overflow": null,
            "overflow_x": null,
            "overflow_y": null,
            "padding": null,
            "right": null,
            "top": null,
            "visibility": null,
            "width": null
          }
        },
        "ba36f946f30b4dd9b6c4d082a73c40bc": {
          "model_module": "@jupyter-widgets/base",
          "model_name": "LayoutModel",
          "model_module_version": "1.2.0",
          "state": {
            "_model_module": "@jupyter-widgets/base",
            "_model_module_version": "1.2.0",
            "_model_name": "LayoutModel",
            "_view_count": null,
            "_view_module": "@jupyter-widgets/base",
            "_view_module_version": "1.2.0",
            "_view_name": "LayoutView",
            "align_content": null,
            "align_items": null,
            "align_self": null,
            "border": null,
            "bottom": null,
            "display": null,
            "flex": null,
            "flex_flow": null,
            "grid_area": null,
            "grid_auto_columns": null,
            "grid_auto_flow": null,
            "grid_auto_rows": null,
            "grid_column": null,
            "grid_gap": null,
            "grid_row": null,
            "grid_template_areas": null,
            "grid_template_columns": null,
            "grid_template_rows": null,
            "height": null,
            "justify_content": null,
            "justify_items": null,
            "left": null,
            "margin": null,
            "max_height": null,
            "max_width": null,
            "min_height": null,
            "min_width": null,
            "object_fit": null,
            "object_position": null,
            "order": null,
            "overflow": null,
            "overflow_x": null,
            "overflow_y": null,
            "padding": null,
            "right": null,
            "top": null,
            "visibility": null,
            "width": null
          }
        },
        "8343fbdc1d984751940abed3f2cdb807": {
          "model_module": "@jupyter-widgets/controls",
          "model_name": "DescriptionStyleModel",
          "model_module_version": "1.5.0",
          "state": {
            "_model_module": "@jupyter-widgets/controls",
            "_model_module_version": "1.5.0",
            "_model_name": "DescriptionStyleModel",
            "_view_count": null,
            "_view_module": "@jupyter-widgets/base",
            "_view_module_version": "1.2.0",
            "_view_name": "StyleView",
            "description_width": ""
          }
        },
        "b39b09914b38471e9b0311b0f9ec309b": {
          "model_module": "@jupyter-widgets/base",
          "model_name": "LayoutModel",
          "model_module_version": "1.2.0",
          "state": {
            "_model_module": "@jupyter-widgets/base",
            "_model_module_version": "1.2.0",
            "_model_name": "LayoutModel",
            "_view_count": null,
            "_view_module": "@jupyter-widgets/base",
            "_view_module_version": "1.2.0",
            "_view_name": "LayoutView",
            "align_content": null,
            "align_items": null,
            "align_self": null,
            "border": null,
            "bottom": null,
            "display": null,
            "flex": null,
            "flex_flow": null,
            "grid_area": null,
            "grid_auto_columns": null,
            "grid_auto_flow": null,
            "grid_auto_rows": null,
            "grid_column": null,
            "grid_gap": null,
            "grid_row": null,
            "grid_template_areas": null,
            "grid_template_columns": null,
            "grid_template_rows": null,
            "height": null,
            "justify_content": null,
            "justify_items": null,
            "left": null,
            "margin": null,
            "max_height": null,
            "max_width": null,
            "min_height": null,
            "min_width": null,
            "object_fit": null,
            "object_position": null,
            "order": null,
            "overflow": null,
            "overflow_x": null,
            "overflow_y": null,
            "padding": null,
            "right": null,
            "top": null,
            "visibility": null,
            "width": null
          }
        },
        "29d3c363b29a418fb82759ed27e534ee": {
          "model_module": "@jupyter-widgets/controls",
          "model_name": "ProgressStyleModel",
          "model_module_version": "1.5.0",
          "state": {
            "_model_module": "@jupyter-widgets/controls",
            "_model_module_version": "1.5.0",
            "_model_name": "ProgressStyleModel",
            "_view_count": null,
            "_view_module": "@jupyter-widgets/base",
            "_view_module_version": "1.2.0",
            "_view_name": "StyleView",
            "bar_color": null,
            "description_width": ""
          }
        },
        "c8398cfbe05c4ce0bd235b7bcb6a3f47": {
          "model_module": "@jupyter-widgets/base",
          "model_name": "LayoutModel",
          "model_module_version": "1.2.0",
          "state": {
            "_model_module": "@jupyter-widgets/base",
            "_model_module_version": "1.2.0",
            "_model_name": "LayoutModel",
            "_view_count": null,
            "_view_module": "@jupyter-widgets/base",
            "_view_module_version": "1.2.0",
            "_view_name": "LayoutView",
            "align_content": null,
            "align_items": null,
            "align_self": null,
            "border": null,
            "bottom": null,
            "display": null,
            "flex": null,
            "flex_flow": null,
            "grid_area": null,
            "grid_auto_columns": null,
            "grid_auto_flow": null,
            "grid_auto_rows": null,
            "grid_column": null,
            "grid_gap": null,
            "grid_row": null,
            "grid_template_areas": null,
            "grid_template_columns": null,
            "grid_template_rows": null,
            "height": null,
            "justify_content": null,
            "justify_items": null,
            "left": null,
            "margin": null,
            "max_height": null,
            "max_width": null,
            "min_height": null,
            "min_width": null,
            "object_fit": null,
            "object_position": null,
            "order": null,
            "overflow": null,
            "overflow_x": null,
            "overflow_y": null,
            "padding": null,
            "right": null,
            "top": null,
            "visibility": null,
            "width": null
          }
        },
        "9881df8e21464bf69bb13b9dffeeaacb": {
          "model_module": "@jupyter-widgets/controls",
          "model_name": "DescriptionStyleModel",
          "model_module_version": "1.5.0",
          "state": {
            "_model_module": "@jupyter-widgets/controls",
            "_model_module_version": "1.5.0",
            "_model_name": "DescriptionStyleModel",
            "_view_count": null,
            "_view_module": "@jupyter-widgets/base",
            "_view_module_version": "1.2.0",
            "_view_name": "StyleView",
            "description_width": ""
          }
        }
      }
    }
  },
  "cells": [
    {
      "cell_type": "markdown",
      "metadata": {
        "id": "view-in-github",
        "colab_type": "text"
      },
      "source": [
        "<a href=\"https://colab.research.google.com/github/VladSkopenko/Basic_linear_algebra_using_python/blob/main/lesson_1_vectors.ipynb\" target=\"_parent\"><img src=\"https://colab.research.google.com/assets/colab-badge.svg\" alt=\"Open In Colab\"/></a>"
      ]
    },
    {
      "cell_type": "markdown",
      "source": [
        "# Зміст\n"
      ],
      "metadata": {
        "id": "oG2xayIgyr7t"
      }
    },
    {
      "cell_type": "markdown",
      "source": [
        "В цьому ноутбуці буде описано на базовому рівні:\n",
        "\n",
        "1.   Що таке вектор?\n",
        "2.   Які характеристики має вектор?\n",
        "3.   Різновиди векторів\n",
        "4.   Яка роль вектора в Data Science?\n",
        "5.   Як перетворити щось у вектор?\n",
        "6.   Операції з векторами\n",
        "7.   Як працювати з векторами за допомогою python\n",
        "8.   Практичні приклади\n",
        "9.   Додаткові завдання\n",
        "\n",
        "\n"
      ],
      "metadata": {
        "id": "EKmA7qYHyhu9"
      }
    },
    {
      "cell_type": "markdown",
      "source": [
        "# Що таке вектор?\n"
      ],
      "metadata": {
        "id": "FyG0IJZjzYgP"
      }
    },
    {
      "cell_type": "markdown",
      "source": [
        "У контексті Data Science (науки про дані) термін \"вектор\" має кілька значень, залежно від контексту. Найбільш загальними є такі варіанти:\n",
        "\n",
        "* Це впорядкований набір чисел, який можна представляти як одномірний масив або список. У Data Science вектори використовуються для представлення даних, наприклад, ознак (features) об'єктів, які аналізуються.\n",
        "Наприклад, вектор може бути представленим як набір числових значень, що описують характеристики певного об'єкта або явища (наприклад, у машинному навчанні це можуть бути вектори ознак для кожного запису в наборі даних).\n",
        "Вектор у контексті машинного навчання:\n",
        "\n",
        "* У навчанні моделей вектор часто використовується для представлення даних, зокрема зображень, текстів чи аудіо, після їх перетворення у числову форму. Це дозволяє алгоритмам обробляти різноманітні типи даних.\n",
        "Наприклад, у природній обробці мови (NLP) вектори можуть бути використані для подання слів (word embeddings) через методи, такі як Word2Vec чи GloVe.\n",
        "Вектор в програмуванні:\n",
        "\n",
        "* Вектори в програмуванні можуть бути використані для опису структур даних (наприклад, вектори як масиви чи списки), де елементи вектору можуть бути різними типами даних (цілі числа, числа з плаваючою комою тощо).\n",
        "Вектор у статистиці:\n",
        "\n",
        "* Вектор у статистиці може бути використаний для представлення даних, де кожне значення вектора є певною мірою чи показником для різних об'єктів. Наприклад, вектор може містити середні значення, відхилення або будь-які інші статистичні метрики для різних груп.\n",
        "Таким чином, вектор у Data Science — це здебільшого набір числових значень, що дозволяють представляти дані у вигляді, зручному для подальшої обробки та аналізу алгоритмами.\n",
        "\n",
        "* Вектор — це математичний об'єкт, що представляє собою впорядковану послідовність чисел або елементів\n",
        "\n",
        "* Вектор - це фундаментальна структура даних в Data Science"
      ],
      "metadata": {
        "id": "8BKZpS3B0Srz"
      }
    },
    {
      "cell_type": "markdown",
      "source": [
        "Приклад:\n",
        "Якщо ми маємо дані про людину, такі як її вік, вага і зріст, то можемо представити ці дані у вигляді вектора:\n",
        "\n",
        "𝑣 = (вік, вага, зріст) = (25, 92, 183)\n",
        "\n",
        "Тут вектор має три компоненти: вік, вага та зріст."
      ],
      "metadata": {
        "id": "6o85DSSw5zn2"
      }
    },
    {
      "cell_type": "code",
      "source": [
        "import numpy as np\n",
        "\n",
        "skopenko_vladyslav = np.array([25, 92, 183])\n",
        "print(skopenko_vladyslav)"
      ],
      "metadata": {
        "colab": {
          "base_uri": "https://localhost:8080/"
        },
        "id": "Mugiu_tYcYYg",
        "outputId": "929eaff2-e7cd-4e25-cccc-8826764e35ad"
      },
      "execution_count": null,
      "outputs": [
        {
          "output_type": "stream",
          "name": "stdout",
          "text": [
            "[ 25  92 183]\n"
          ]
        }
      ]
    },
    {
      "cell_type": "markdown",
      "source": [
        "# Характеристики вектора в контексті Data Science:"
      ],
      "metadata": {
        "id": "ZcvJtK8p6wmz"
      }
    },
    {
      "cell_type": "markdown",
      "source": [
        "* 1. ***Розмірність (Dimension)  ***\n",
        "Визначення: Розмірність вектора — це кількість його елементів. У Data Science розмірність вектора зазвичай відповідає кількості ознак або характеристик, які описують спостереження.\n",
        "\n",
        "Як впливає: Вища розмірність векторів зазвичай означає більше даних і більш складну модель. Наприклад, для зображення вектор може мати тисячі пікселів (висока розмірність). Якщо розмірність надто велика, це може призвести до проблеми \"вимірності\" (curse of dimensionality), де дані стають розрізненими, і модель може не навчатися ефективно. Водночас, недостатня розмірність може призвести до втрати важливої інформації.\n",
        "\n",
        "Як впоратись: Для зменшення розмірності використовують методи, такі як Principal Component Analysis (PCA), щоб зберегти якомога більше варіативності в даних, при цьому зменшити кількість ознак.\n",
        "\n"
      ],
      "metadata": {
        "id": "RzPm1hUT7U2p"
      }
    },
    {
      "cell_type": "code",
      "source": [
        "import numpy as np\n",
        "\n",
        "# Це вектор в якому вік, зріст, вага , Кількість годин занять спортом на тиждень, Кількість годин роботи на тиждень\n",
        "data = np.array([\n",
        "    [25, 183, 93, 5, 40],\n",
        "    [30, 175, 85, 3, 45],\n",
        "    [22, 178, 78, 7, 35],\n",
        "    [40, 165, 70, 2, 50],\n",
        "    [28, 180, 88, 4, 42]\n",
        "])\n",
        "\n",
        "from sklearn.decomposition import PCA\n",
        "\n",
        "# Ініціалізація PCA з бажаною кількістю компонент\n",
        "pca = PCA(n_components=2)\n",
        "\n",
        "# Застосування PCA до даних\n",
        "reduced_data = pca.fit_transform(data)\n",
        "\n",
        "print(f\"Зменшена розмірність даних: {reduced_data}\")\n"
      ],
      "metadata": {
        "colab": {
          "base_uri": "https://localhost:8080/"
        },
        "id": "eygbrgFgIFsD",
        "outputId": "a1b219b5-3ee7-4068-af9c-77fa99336159"
      },
      "execution_count": null,
      "outputs": [
        {
          "output_type": "stream",
          "name": "stdout",
          "text": [
            "Зменшена розмірність даних: [[ 12.59120177   3.72597654]\n",
            " [ -0.77074846   3.57679081]\n",
            " [  4.14951149 -10.98400668]\n",
            " [-21.72920183   0.7195965 ]\n",
            " [  5.75923702   2.96164283]]\n"
          ]
        }
      ]
    },
    {
      "cell_type": "markdown",
      "source": [
        "В результаті PCA, кожен вектор даних буде представлений двома новими компонентами, які є лінійними комбінаціями початкових ознак. Ці нові компоненти називаються головними компонентами.\n",
        "\n",
        "Головними компонентами:\n",
        "Перша головна компонента: Це напрямок, який максимізує дисперсію даних.\n",
        "\n",
        "Друга головна компонента: Це напрямок, який максимізує залишкову дисперсію після першої головної компоненти."
      ],
      "metadata": {
        "id": "8J9YXlDnJSUp"
      }
    },
    {
      "cell_type": "markdown",
      "source": [
        "*     2. ***Модуль (Довжина)  ***  \n",
        "Визначення: Модуль (довжина) вектора — це його величина, що визначається як корінь з суми квадратів його елементів. У машинному навчанні часто потрібна нормалізація або стандартизація даних для того, щоб зменшити вплив різної шкали ознак.\n",
        "\n",
        "Як впливає:\n",
        "\n",
        "Якщо вектори мають різну довжину, це може призвести до того, що алгоритми, які використовують відстань між точками (наприклад, KNN, SVM, градієнтний спуск), будуть працювати неправильно, оскільки деякі ознаки (з більшими значеннями) можуть мати більше значення для моделі, ніж інші.\n",
        "Наприклад, якщо одна ознака вимірюється в метрах, а інша — в тисячах доларів, вектор без нормалізації буде тяжіти до ознак з більшими значеннями.\n",
        "Як впоратись: Використовуються методи нормалізації або стандартизації:\n",
        "\n",
        "Нормалізація: приводить вектор до певної довжини (наприклад, до одиничної довжини), що дозволяє порівнювати дані на однакових умовах.\n",
        "Стандартизація: змінює дані так, щоб вони мали середнє значення 0 і стандартне відхилення 1."
      ],
      "metadata": {
        "id": "1VZyRzTt772m"
      }
    },
    {
      "cell_type": "code",
      "source": [
        "import numpy as np\n",
        "\n",
        "# Вектор\n",
        "x = np.array([25, 183, 93])\n",
        "\n",
        "# Мінімальні та максимальні характеристики\n",
        "min_values = np.array([1, 150, 3])\n",
        "max_values = np.array([100, 251, 150])\n",
        "\n",
        "# Нормализація\n",
        "x_norm = (x - min_values) / (max_values - min_values)\n",
        "\n",
        "print(x_norm)"
      ],
      "metadata": {
        "colab": {
          "base_uri": "https://localhost:8080/"
        },
        "id": "Ud3KqZXZEbf5",
        "outputId": "d9a6b2cc-0193-44fb-8fa4-bb94fb465811"
      },
      "execution_count": null,
      "outputs": [
        {
          "output_type": "stream",
          "name": "stdout",
          "text": [
            "[0.24242424 0.32673267 0.6122449 ]\n"
          ]
        }
      ]
    },
    {
      "cell_type": "markdown",
      "source": [
        "* **3. Напрямок**  \n",
        "Визначення: Напрямок вектора вказує на орієнтацію його елементів у просторі. В Data Science це важливо для розуміння співвідношення між ознаками.\n",
        "\n",
        "Як впливає:\n",
        "\n",
        "Напрямок вектора може впливати на аналогічність або подібність даних. Наприклад, у текстовому аналізі, коли вектори слів використовують методи Word2Vec або TF-IDF, напрямок вектора може відображати значення слова або його контекст у порівнянні з іншими словами.\n",
        "У класифікаційних задачах важливо, як розташовані вектори ознак, оскільки це може впливати на результат класифікації. Наприклад, якщо два вектори схожі за напрямком, то вони, ймовірно, будуть належати до одного класу.\n",
        "Як впоратись:\n",
        "\n",
        "Для вимірювання схожості між векторами часто використовують скалярний добуток або косинусну подібність. Важливо коректно вибирати вектори для побудови моделі, щоб правильно оцінювати напрямки векторів."
      ],
      "metadata": {
        "id": "wZWaz8Cl8fks"
      }
    },
    {
      "cell_type": "markdown",
      "source": [
        "* **4. Компоненти вектора**\n",
        "Визначення: Компоненти вектора — це окремі елементи, які складають вектор. Вони можуть бути ознаками або характеристиками спостереження (наприклад, вік, вага, колір).\n",
        "\n",
        "Як впливає:\n",
        "\n",
        "Кожна компонента вектора має своє значення, яке може впливати на модель або результат аналізу. Наприклад, у задачі прогнозування, компоненти можуть бути різними ознаками, такими як вік, дохід, рівень освіти і т.д. Від правильного вибору компонент залежить якість моделі.\n",
        "Якщо компоненти мають кореляцію, вони можуть взаємно впливати на результат моделі. Це може привести до мультиколінеарності в регресійних моделях, що ускладнить інтерпретацію результатів.\n",
        "Як впоратись:\n",
        "\n",
        "Для боротьби з мультиколінеарністю використовують методи відбору ознак, такі як відбір за кореляцією, L1-регуляризація (Lasso), PCA.\n",
        "Важливо також перевіряти, чи всі компоненти вектора є релевантними для задачі, адже зайві або зайвий шум можуть погіршити результат."
      ],
      "metadata": {
        "id": "3lyhvFm79Ure"
      }
    },
    {
      "cell_type": "code",
      "source": [
        "import numpy as np\n",
        "import pandas as pd\n",
        "import seaborn as sns\n",
        "import matplotlib.pyplot as plt\n",
        "from sklearn.linear_model import Lasso\n",
        "from sklearn.decomposition import PCA\n",
        "from sklearn.datasets import make_regression\n",
        "\n",
        "# 1. Створюємо випадкові дані (наприклад, вік, дохід, рівень освіти)\n",
        "np.random.seed(42)\n",
        "\n",
        "# Приклад даних: вік, дохід, рівень освіти (в умовних одиницях)\n",
        "data = {\n",
        "    'age': np.random.randint(18, 70, 100),\n",
        "    'income': np.random.randint(10000, 100000, 100),\n",
        "    'education_level': np.random.randint(0, 20, 100)  # Рівень освіти (0-20)\n",
        "}\n",
        "\n",
        "df = pd.DataFrame(data)\n",
        "\n",
        "# 2. Будуємо кореляційну матрицю\n",
        "corr_matrix = df.corr()\n",
        "\n",
        "# Візуалізуємо кореляцію між ознаками\n",
        "sns.heatmap(corr_matrix, annot=True, cmap='coolwarm')\n",
        "plt.title(\"Кореляційна матриця\")\n",
        "plt.show()\n",
        "\n",
        "# 3. Використовуємо L1-регуляризацію (Lasso) для відбору ознак\n",
        "X = df[['age', 'income', 'education_level']]\n",
        "y = np.random.randint(0, 2, 100)  # Випадкова цільова змінна (наприклад, для класифікації)\n",
        "\n",
        "# Моделювання з використанням Lasso\n",
        "lasso = Lasso(alpha=0.1)  # Параметр регуляризації\n",
        "lasso.fit(X, y)\n",
        "\n",
        "# Показуємо, які ознаки були відкинуті\n",
        "print(\"Коефіцієнти Lasso регресії:\")\n",
        "print(pd.Series(lasso.coef_, index=X.columns))\n",
        "\n",
        "# 4. Застосовуємо PCA для зменшення розмірності\n",
        "pca = PCA(n_components=2)  # Зменшуємо до 2 компонент\n",
        "X_pca = pca.fit_transform(X)\n",
        "\n",
        "# Візуалізуємо результати PCA\n",
        "plt.scatter(X_pca[:, 0], X_pca[:, 1], c=y)\n",
        "plt.title(\"Результати PCA\")\n",
        "plt.xlabel(\"PC1\")\n",
        "plt.ylabel(\"PC2\")\n",
        "plt.show()\n",
        "\n",
        "# 5. Застосування відбору ознак за кореляцією\n",
        "# Залишаємо лише ознаки з кореляцією менше 0.9\n",
        "corr_threshold = 0.9\n",
        "corr_filtered = corr_matrix[abs(corr_matrix) < corr_threshold]\n",
        "print(\"Ознаки після фільтрації за кореляцією:\")\n",
        "print(corr_filtered)\n"
      ],
      "metadata": {
        "colab": {
          "base_uri": "https://localhost:8080/",
          "height": 1000
        },
        "id": "B6TGVGMDfFFG",
        "outputId": "973e4495-efa9-472f-c7d8-a58859ed0961"
      },
      "execution_count": null,
      "outputs": [
        {
          "output_type": "display_data",
          "data": {
            "text/plain": [
              "<Figure size 640x480 with 2 Axes>"
            ],
            "image/png": "[encoded data removed]"
          },
          "metadata": {}
        },
        {
          "output_type": "stream",
          "name": "stdout",
          "text": [
            "Коефіцієнти Lasso регресії:\n",
            "age                0.001289\n",
            "income            -0.000005\n",
            "education_level    0.000000\n",
            "dtype: float64\n"
          ]
        },
        {
          "output_type": "display_data",
          "data": {
            "text/plain": [
              "<Figure size 640x480 with 1 Axes>"
            ],
            "image/png": "[encoded data removed]"
          },
          "metadata": {}
        },
        {
          "output_type": "stream",
          "name": "stdout",
          "text": [
            "Ознаки після фільтрації за кореляцією:\n",
            "                      age    income  education_level\n",
            "age                   NaN  0.220128        -0.034213\n",
            "income           0.220128       NaN        -0.135750\n",
            "education_level -0.034213 -0.135750              NaN\n"
          ]
        }
      ]
    },
    {
      "cell_type": "markdown",
      "source": [
        "* 5. **Тип вектора (рядковий чи стовпцевий)**\n",
        "Визначення: Тип вектора залежить від того, як організовані його елементи — у вигляді рядка чи стовпця. Це може бути важливим для деяких алгоритмів або бібліотек, які вимагають конкретної структури даних.\n",
        "\n",
        "Як впливає:\n",
        "\n",
        "Деякі моделі машинного навчання очікують певну структуру вхідних даних, і якщо вектор буде неправильно організований (наприклад, рядковий замість стовпцевого), алгоритм може не працювати коректно або виникнуть помилки при обробці даних.\n",
        "Як впоратись:\n",
        "\n",
        "Переконайтеся, що структура даних відповідає вимогам конкретного алгоритму чи бібліотеки. Наприклад, в бібліотеці scikit-learn для алгоритмів машинного навчання часто вимагається, щоб вектор був представленим у вигляді стовпця."
      ],
      "metadata": {
        "id": "2W0J0RZr9e6P"
      }
    },
    {
      "cell_type": "markdown",
      "source": [
        "# Різновиди векторів"
      ],
      "metadata": {
        "id": "--aG42ZcgTEc"
      }
    },
    {
      "cell_type": "markdown",
      "source": [
        "\n",
        "В Data Science вектори часто використовуються для представлення даних, ознак (features) або міток (labels). Різновиди векторів в цьому контексті важливі для обробки, трансформації та аналізу даних. Ось основні різновиди векторів, які використовуються в Data Science:"
      ],
      "metadata": {
        "id": "pIo0qfr3gWc9"
      }
    },
    {
      "cell_type": "markdown",
      "source": [
        "1. Ознаки (Feature vector):\n",
        "Це вектор, що містить усі ознаки (features) одного зразка даних. У контексті машинного навчання, кожен зразок (наприклад, один рядок у датасеті) може бути представлений вектором його характеристик.\n",
        "\n",
        "Рядковий вектор: Вектор, що містить усі ознаки одного зразка, представлений у вигляді одного рядка.\n",
        "Стовпцевий вектор: Вектор, що має одну характеристику на кожному рядку, часто використовується в контексті матриць або для обробки одномірних даних."
      ],
      "metadata": {
        "id": "CetsFK81kQ65"
      }
    },
    {
      "cell_type": "code",
      "source": [
        "import numpy as np\n",
        "\n",
        "# це будь які ознаки , головне що вони консистентні в рамках одного вектору\n",
        "x = np.array([1.5, 2.3, 3.1])\n"
      ],
      "metadata": {
        "colab": {
          "base_uri": "https://localhost:8080/"
        },
        "id": "5xkUEGe_kSPl",
        "outputId": "68e80a21-6caa-49bd-8efe-21cf7d1b70a1"
      },
      "execution_count": null,
      "outputs": [
        {
          "output_type": "execute_result",
          "data": {
            "text/plain": [
              "array([1.5, 2.3, 3.1])"
            ]
          },
          "metadata": {},
          "execution_count": 12
        }
      ]
    },
    {
      "cell_type": "markdown",
      "source": [
        "2. Вектор цільових міток (Label vector):\n",
        "Це вектор, що містить цільову змінну для кожного зразка (мітки класу або значення для регресії). У задачах класифікації це може бути вектор класів, у задачах регресії — значення, які модель повинна передбачити.\n",
        "\n",
        "Приклад для задачі класифікації:"
      ],
      "metadata": {
        "id": "h5kMwZ66l9K_"
      }
    },
    {
      "cell_type": "code",
      "source": [
        "# Тут  головна суть в тому що 0  не меньше за 1 , 0 це інше ніж 1. Наприклад 1 - собака , 0 - літак.\n",
        "y = np.array([0, 1, 1, 0])"
      ],
      "metadata": {
        "id": "6KgxGY_lmHCm"
      },
      "execution_count": null,
      "outputs": []
    },
    {
      "cell_type": "markdown",
      "source": [
        "3. Нормалізований вектор (Normalized vector):\n",
        "У Data Science вектори часто нормалізуються для приведення значень ознак до спільного масштабу. Це дозволяє уникнути впливу різних одиниць вимірювання на результати аналізу або моделювання.\n",
        "\n",
        "Нормалізація: Приведення значень вектора до діапазону, наприклад, [0, 1].\n",
        "Стандартизація: Перетворення вектора так, щоб його середнє значення було 0, а стандартне відхилення — 1.\n",
        "Приклад нормалізації:"
      ],
      "metadata": {
        "id": "mrS6v2sumahh"
      }
    },
    {
      "cell_type": "code",
      "source": [
        "import numpy as np\n",
        "from sklearn.preprocessing import MinMaxScaler\n",
        "\n",
        "X = np.array([25, 92, 183])\n",
        "\n",
        "scaler = MinMaxScaler(feature_range=(-1, 1))\n",
        "\n",
        "X_normalized = scaler.fit_transform(X.reshape(-1, 1))\n",
        "print(\"Нормалізований вектор:\", X_normalized)\n",
        "# Тут зверніть увагу що нормалізує таким чином наче 25 років суміжно с 92 кілограмами , це не завжди те що потрібно ,  і  часто для кожного параметра потрібна індивідуальна нормалізація"
      ],
      "metadata": {
        "colab": {
          "base_uri": "https://localhost:8080/"
        },
        "id": "F8gWFjChmhM2",
        "outputId": "e2e125a7-e059-43f7-885e-dc24d761ce7d"
      },
      "execution_count": null,
      "outputs": [
        {
          "output_type": "stream",
          "name": "stdout",
          "text": [
            "Нормалізований вектор: [[-1.        ]\n",
            " [-0.15189873]\n",
            " [ 1.        ]]\n"
          ]
        }
      ]
    },
    {
      "cell_type": "code",
      "source": [
        "import numpy as np\n",
        "from sklearn.preprocessing import MinMaxScaler\n",
        "\n",
        "# Дані: вік і вага\n",
        "X = np.array([[25, 70], [92, 90], [183, 75]])\n",
        "\n",
        "# Нормалізуємо кожен стовпець окремо (вік і вага)\n",
        "scaler = MinMaxScaler(feature_range=(-1, 1))\n",
        "\n",
        "# Нормалізуємо кожен стовпець (означає, що кожен стовпець буде окремо масштабований)\n",
        "X_normalized = scaler.fit_transform(X)\n",
        "\n",
        "print(\"Нормалізований вектор:\", X_normalized)\n",
        "# це приклад нормалізації в рамках того що максимальне і мінімальне значення беруться виключно з даних які у нас є\n",
        "# Хоча ми розуміємо що 92 не є максимальною вагою а 90 не є мінімальною вагою, але в рамках наших даних це так"
      ],
      "metadata": {
        "colab": {
          "base_uri": "https://localhost:8080/"
        },
        "id": "K2_31guHoCD5",
        "outputId": "cabadfae-8e86-48ae-ab1c-516626c71639"
      },
      "execution_count": null,
      "outputs": [
        {
          "output_type": "stream",
          "name": "stdout",
          "text": [
            "Нормалізований вектор: [[-1.         -1.        ]\n",
            " [-0.15189873  1.        ]\n",
            " [ 1.         -0.5       ]]\n"
          ]
        }
      ]
    },
    {
      "cell_type": "markdown",
      "source": [
        "4. Вектор ознак з пропущеними значеннями (Vector with missing values):\n",
        "У реальних даних часто зустрічаються пропущені значення, які можуть бути представлені як NaN або інші позначення. У таких випадках вектори можуть мати пропуски, які потребують обробки (заповнення, ігнорування або вилучення зразків).\n",
        "\n",
        "Приклад з пропущеними значеннями:"
      ],
      "metadata": {
        "id": "dV0ynOf3munk"
      }
    },
    {
      "cell_type": "code",
      "source": [
        "import numpy as np\n",
        "import pandas as pd  # Імпортуємо pandas\n",
        "from sklearn.impute import SimpleImputer\n",
        "from sklearn.metrics import pairwise_distances\n",
        "from fancyimpute import KNN\n",
        "\n",
        "# Приклад з пропущеними значеннями\n",
        "X_with_missing = np.array([1.5, np.nan, 3.1])\n",
        "\n",
        "# Заповнення пропущених значень середнім\n",
        "imputer = SimpleImputer(strategy='mean')  # Заповнення середнім значенням\n",
        "X_filled = imputer.fit_transform(X_with_missing.reshape(-1, 1))\n",
        "print(\"Заповнення середнім значенням:\", X_filled)\n",
        "\n",
        "# Заповнення методом ffill (для тимчасових даних або порядкових значень)\n",
        "X_with_missing = [1.5, np.nan, 3.1]\n",
        "X_filled_ffill = pd.Series(X_with_missing).ffill().to_numpy()  # Заповнення попереднім значенням\n",
        "print(\"Заповнення попереднім значенням:\", X_filled_ffill)\n",
        "\n",
        "# Перетворюємо в масив NumPy, щоб працювати з NaN\n",
        "X_with_missing = np.array(X_with_missing)  # Перетворюємо список на масив NumPy\n",
        "\n",
        "# Видаляємо NaN перед обчисленням відстаней\n",
        "X_without_nan = X_with_missing[~np.isnan(X_with_missing)]  # Видаляємо NaN\n",
        "distances = pairwise_distances(X_without_nan.reshape(1, -1), metric='euclidean')\n",
        "print(\"Відстані:\", distances)\n",
        "\n",
        "# Використовуємо KNN для заповнення пропущених значень\n",
        "X_imputed = KNN(k=3).fit_transform(X_with_missing.reshape(-1, 1))\n",
        "print(\"Заповнення за допомогою KNN:\", X_imputed)\n"
      ],
      "metadata": {
        "colab": {
          "base_uri": "https://localhost:8080/"
        },
        "id": "JjDQS3E6oor9",
        "outputId": "72e9d199-8e0f-4e81-c6d8-bd857d258159"
      },
      "execution_count": null,
      "outputs": [
        {
          "output_type": "stream",
          "name": "stdout",
          "text": [
            "Заповнення середнім значенням: [[1.5]\n",
            " [2.3]\n",
            " [3.1]]\n",
            "Заповнення попереднім значенням: [1.5 1.5 3.1]\n",
            "Відстані: [[0.]]\n",
            "Imputing row 1/3 with 0 missing, elapsed time: 0.000\n",
            "[KNN] Warning: 1/3 still missing after imputation, replacing with 0\n",
            "Заповнення за допомогою KNN: [[1.5]\n",
            " [0. ]\n",
            " [3.1]]\n"
          ]
        }
      ]
    },
    {
      "cell_type": "markdown",
      "source": [
        "5. Вектор ознак для текстових даних (Text vector):\n",
        "Текстові дані часто перетворюються на вектори за допомогою різних методів, таких як bag-of-words, TF-IDF або Word Embeddings. Ці вектори є числовими представленнями тексту, що дозволяють використовувати текстові дані для навчання моделей машинного навчання.\n",
        "\n",
        "Bag-of-words (BoW): Підхід, в якому кожне слово в тексті розглядається як окрему ознаку.\n",
        "TF-IDF (Term Frequency-Inverse Document Frequency): Методи, які оцінюють важливість слова у документі.\n",
        "Word Embeddings: Представлення слів через багатовимірні вектори (наприклад, Word2Vec, GloVe).\n",
        "Приклад з TF-IDF:"
      ],
      "metadata": {
        "id": "6RMzjTtrsZ7g"
      }
    },
    {
      "cell_type": "code",
      "source": [
        "from sklearn.feature_extraction.text import CountVectorizer\n",
        "\n",
        "# Текстові документи\n",
        "corpus = ['this is the first document', 'this document is the second document']\n",
        "\n",
        "# Ініціалізація CountVectorizer для перетворення тексту в числові вектори\n",
        "vectorizer = CountVectorizer()\n",
        "\n",
        "# Перетворення тексту в матрицю частот\n",
        "X_bow = vectorizer.fit_transform(corpus)\n",
        "\n",
        "# Переглядаємо результати\n",
        "print(\"Векторизація за допомогою Bag-of-Words:\")\n",
        "print(X_bow.toarray())\n",
        "print(\"Словник (features):\", vectorizer.get_feature_names_out())"
      ],
      "metadata": {
        "colab": {
          "base_uri": "https://localhost:8080/"
        },
        "id": "stqUfp1QsbEv",
        "outputId": "8a9b372e-c915-4517-8709-2a43db46291c"
      },
      "execution_count": null,
      "outputs": [
        {
          "output_type": "stream",
          "name": "stdout",
          "text": [
            "Векторизація за допомогою Bag-of-Words:\n",
            "[[1 1 1 0 1 1]\n",
            " [2 0 1 1 1 1]]\n",
            "Словник (features): ['document' 'first' 'is' 'second' 'the' 'this']\n"
          ]
        }
      ]
    },
    {
      "cell_type": "code",
      "source": [
        "import gensim\n",
        "from gensim.models import Word2Vec\n",
        "\n",
        "# Приклад тексту\n",
        "sentences = [[\"this\", \"is\", \"the\", \"first\", \"document\"],\n",
        "             [\"this\", \"document\", \"is\", \"the\", \"second\", \"document\"]]\n",
        "\n",
        "# Навчання моделі Word2Vec\n",
        "model = Word2Vec(sentences, min_count=1)\n",
        "\n",
        "# Отримання вектору для слова\n",
        "vector = model.wv['document']\n",
        "print(\"Вектор для слова 'document':\", vector)"
      ],
      "metadata": {
        "id": "c1NUSK0AsveR",
        "outputId": "e148835e-f790-4440-a045-4ad49df6d363",
        "colab": {
          "base_uri": "https://localhost:8080/"
        }
      },
      "execution_count": null,
      "outputs": [
        {
          "output_type": "stream",
          "name": "stdout",
          "text": [
            "Вектор для слова 'document': [-5.3622725e-04  2.3643136e-04  5.1033497e-03  9.0092728e-03\n",
            " -9.3029495e-03 -7.1168090e-03  6.4588725e-03  8.9729885e-03\n",
            " -5.0154282e-03 -3.7633716e-03  7.3805046e-03 -1.5334714e-03\n",
            " -4.5366134e-03  6.5540518e-03 -4.8601604e-03 -1.8160177e-03\n",
            "  2.8765798e-03  9.9187379e-04 -8.2852151e-03 -9.4488179e-03\n",
            "  7.3117660e-03  5.0702621e-03  6.7576934e-03  7.6286553e-04\n",
            "  6.3508903e-03 -3.4053659e-03 -9.4640139e-04  5.7685734e-03\n",
            " -7.5216377e-03 -3.9361035e-03 -7.5115822e-03 -9.3004224e-04\n",
            "  9.5381187e-03 -7.3191668e-03 -2.3337686e-03 -1.9377411e-03\n",
            "  8.0774371e-03 -5.9308959e-03  4.5162440e-05 -4.7537340e-03\n",
            " -9.6035507e-03  5.0072931e-03 -8.7595852e-03 -4.3918253e-03\n",
            " -3.5099984e-05 -2.9618145e-04 -7.6612402e-03  9.6147433e-03\n",
            "  4.9820580e-03  9.2331432e-03 -8.1579173e-03  4.4957981e-03\n",
            " -4.1370760e-03  8.2453608e-04  8.4986202e-03 -4.4621765e-03\n",
            "  4.5175003e-03 -6.7869602e-03 -3.5484887e-03  9.3985079e-03\n",
            " -1.5776526e-03  3.2137157e-04 -4.1406299e-03 -7.6826881e-03\n",
            " -1.5080082e-03  2.4697948e-03 -8.8802696e-04  5.5336617e-03\n",
            " -2.7429771e-03  2.2600652e-03  5.4557943e-03  8.3459532e-03\n",
            " -1.4537406e-03 -9.2081428e-03  4.3705525e-03  5.7178497e-04\n",
            "  7.4419081e-03 -8.1328274e-04 -2.6384138e-03 -8.7530091e-03\n",
            " -8.5655687e-04  2.8265631e-03  5.4014288e-03  7.0526563e-03\n",
            " -5.7031214e-03  1.8588197e-03  6.0888636e-03 -4.7980510e-03\n",
            " -3.1072604e-03  6.7976294e-03  1.6314756e-03  1.8991709e-04\n",
            "  3.4736372e-03  2.1777749e-04  9.6188262e-03  5.0606038e-03\n",
            " -8.9173904e-03 -7.0415605e-03  9.0145587e-04  6.3925339e-03]\n"
          ]
        }
      ]
    },
    {
      "cell_type": "markdown",
      "source": [
        "# Навіщо використовуються вектори ?\n"
      ],
      "metadata": {
        "id": "_hQTXBuAG-J0"
      }
    },
    {
      "cell_type": "markdown",
      "source": [
        "Вектори в Data Science  використовуються для представлення, збереження та обробки числових даних. Вони є фундаментальним будівельним блоком багатьоx алгоритмів машинного навчання.Вектори допомагають перетворювати складні дані у числові значення, що робить їх зручними для аналізу, обчислень та побудови моделей. У Data Science вектори — це ключ до розв'язання багатьох задач."
      ],
      "metadata": {
        "id": "XoOTBfw8HHvw"
      }
    },
    {
      "cell_type": "markdown",
      "source": [
        "Ембеддинг — це спосіб перетворення складних даних (тексту, зображень, категорій чи звуків) у числові вектори. Ці вектори компактно зберігають ключову інформацію, щоб алгоритми машинного навчання могли з ними працювати.\n",
        "\n"
      ],
      "metadata": {
        "id": "zdPGYvBiKg9X"
      }
    },
    {
      "cell_type": "markdown",
      "source": [
        "Чому потрібні ембеддинги?\n",
        "Комп'ютери краще працюють із числами, а не з текстом, зображеннями чи категоріями. Тому дані перетворюють у числові вектори, які:\n",
        "\n",
        "Зберігають смислову інформацію: Наприклад, близькі за змістом слова матимуть схожі ембеддинги.\n",
        "Компактні: Вони зазвичай значно менші за обсягом, ніж оригінальні дані.\n",
        "Зручні для обчислень: Ембеддинги можна порівнювати, групувати чи використовувати як вхідні дані для моделей.\n",
        "Де застосовуються ембеддинги?\n",
        "Текст:\n",
        "\n",
        "Кожне слово, речення чи документ можна перетворити у вектор.\n",
        "Приклад: модель Word2Vec перетворює слово \"король\" у вектор, а слово \"королева\" — у схожий вектор.\n",
        "plaintext\n",
        "Copy code\n",
        "\"Король\" → [0.2, 0.1, 0.8, ...]\n",
        "\"Королева\" → [0.2, 0.1, 0.7, ...]\n",
        "Якщо від вектора \"король\" відняти \"чоловік\" і додати \"жінка\", результат буде близьким до \"королева\".\n",
        "\n",
        "Зображення:\n",
        "\n",
        "Зображення перетворюються в ембеддинги, які описують їх вміст (контури, текстури, кольори).\n",
        "Наприклад, у системах розпізнавання обличчя ембеддинг представляє обличчя людини.\n",
        "Категорійні дані:\n",
        "\n",
        "Категорії (наприклад, типи товарів, міста) також можна представити ембеддингами. Це корисно для рекомендаційних систем.\n",
        "Рекомендаційні системи:\n",
        "\n",
        "Покупки чи вподобання користувача перетворюються в ембеддинги, щоб знаходити подібні товари чи фільми."
      ],
      "metadata": {
        "id": "LNqVWhLjKy8d"
      }
    },
    {
      "cell_type": "markdown",
      "source": [
        "# Як перетворити щось у вектор ?"
      ],
      "metadata": {
        "id": "K8jM_wIgH-KX"
      }
    },
    {
      "cell_type": "markdown",
      "source": [
        "1. Текст (слова, речення, документи). Поки що базові-базові приклада щоб просто розуміти що це можливо і це не складно. Звичайно для того щоб модель  правильно працювало потрібно підібрати модель + очистити дані під цю модель, наприклад прибрати такі слова як is або коми(В залежності від моделі). Щоб зменшити кількість ознак. Нище ви можете побачити базовий процес який іллюструє основні етапи"
      ],
      "metadata": {
        "id": "CIQ9VBv_IN73"
      }
    },
    {
      "cell_type": "code",
      "source": [
        "from sklearn.feature_extraction.text import CountVectorizer\n",
        "\n",
        "text = [\"I love data science\", \"Data science is fun\"]\n",
        "vectorizer = CountVectorizer()\n",
        "vector = vectorizer.fit_transform(text)\n",
        "print(vector.toarray())"
      ],
      "metadata": {
        "colab": {
          "base_uri": "https://localhost:8080/"
        },
        "collapsed": true,
        "id": "b5_Kw8bdIPBf",
        "outputId": "f55fa5d6-9121-44bd-e194-8a9e11ef6c03"
      },
      "execution_count": 1,
      "outputs": [
        {
          "output_type": "stream",
          "name": "stdout",
          "text": [
            "[[1 0 0 1 1]\n",
            " [1 1 1 0 1]]\n"
          ]
        }
      ]
    },
    {
      "cell_type": "code",
      "source": [
        "from sklearn.feature_extraction.text import TfidfVectorizer\n",
        "\n",
        "vectorizer = TfidfVectorizer()\n",
        "vector = vectorizer.fit_transform(text)\n",
        "print(vector.toarray())\n",
        "# Цей вектор виражає \"важливість, цінність слова\""
      ],
      "metadata": {
        "colab": {
          "base_uri": "https://localhost:8080/"
        },
        "collapsed": true,
        "id": "hUPEibzGIVOJ",
        "outputId": "a31db91b-27e5-4812-e499-8165c61da4e9"
      },
      "execution_count": 2,
      "outputs": [
        {
          "output_type": "stream",
          "name": "stdout",
          "text": [
            "[[0.50154891 0.         0.         0.70490949 0.50154891]\n",
            " [0.40993715 0.57615236 0.57615236 0.         0.40993715]]\n"
          ]
        }
      ]
    },
    {
      "cell_type": "code",
      "source": [
        "from gensim.models import Word2Vec\n",
        "\n",
        "sentences = [[\"I\", \"love\", \"data\", \"science\"], [\"Data\", \"science\", \"is\", \"fun\"]]\n",
        "model = Word2Vec(sentences, vector_size=100, window=5, min_count=1, workers=4)\n",
        "word_vector = model.wv[\"data\"]\n",
        "print(word_vector)\n",
        "# це вектор окремого слова"
      ],
      "metadata": {
        "colab": {
          "base_uri": "https://localhost:8080/"
        },
        "collapsed": true,
        "id": "BzI15V2jIhOl",
        "outputId": "7445457b-27fe-43c9-ebcf-e75b4e6143ca"
      },
      "execution_count": 4,
      "outputs": [
        {
          "output_type": "stream",
          "name": "stdout",
          "text": [
            "[-0.00713902  0.00124103 -0.00717672 -0.00224462  0.0037193   0.00583312\n",
            "  0.00119818  0.00210273 -0.00411039  0.00722533 -0.00630704  0.00464722\n",
            " -0.00821997  0.00203647 -0.00497705 -0.00424769 -0.00310898  0.00565521\n",
            "  0.0057984  -0.00497465  0.00077333 -0.00849578  0.00780981  0.00925729\n",
            " -0.00274233  0.00080022  0.00074665  0.00547788 -0.00860608  0.00058446\n",
            "  0.00686942  0.00223159  0.00112468 -0.00932216  0.00848237 -0.00626413\n",
            " -0.00299237  0.00349379 -0.00077263  0.00141129  0.00178199 -0.0068289\n",
            " -0.00972481  0.00904058  0.00619805 -0.00691293  0.00340348  0.00020606\n",
            "  0.00475375 -0.00711994  0.00402695  0.00434743  0.00995737 -0.00447374\n",
            " -0.00138926 -0.00731732 -0.00969783 -0.00908026 -0.00102275 -0.00650329\n",
            "  0.00484973 -0.00616403  0.00251919  0.00073944 -0.00339215 -0.00097922\n",
            "  0.00997913  0.00914589 -0.00446183  0.00908303 -0.00564176  0.00593092\n",
            " -0.00309722  0.00343175  0.00301723  0.00690046 -0.00237388  0.00877504\n",
            "  0.00758943 -0.00954765 -0.00800821 -0.0076379   0.00292326 -0.00279472\n",
            " -0.00692952 -0.00812826  0.00830918  0.00199049 -0.00932802 -0.00479272\n",
            "  0.00313674 -0.00471321  0.00528084 -0.00423344  0.0026418  -0.00804569\n",
            "  0.00620989  0.00481889  0.00078719  0.00301345]\n"
          ]
        }
      ]
    },
    {
      "cell_type": "code",
      "source": [
        "from sentence_transformers import SentenceTransformer\n",
        "\n",
        "model = SentenceTransformer('all-MiniLM-L6-v2')\n",
        "sentence_vector = model.encode(\"I love data science\")\n",
        "print(sentence_vector)"
      ],
      "metadata": {
        "colab": {
          "base_uri": "https://localhost:8080/"
        },
        "collapsed": true,
        "id": "uuKjAjabIsNU",
        "outputId": "11e1a7da-d8ac-4eb3-aac9-572bca5628d9"
      },
      "execution_count": 7,
      "outputs": [
        {
          "output_type": "stream",
          "name": "stdout",
          "text": [
            "[-4.55897413e-02 -5.00492752e-02  1.15232775e-02  1.77929159e-02\n",
            "  2.17946116e-02 -1.47855178e-01 -4.41590976e-03 -6.20220369e-03\n",
            "  6.96890475e-03  9.28047821e-02 -4.29276563e-02 -1.68671999e-02\n",
            "  1.95260756e-02  2.70447857e-03 -3.08110341e-02  4.93243523e-02\n",
            " -6.82338104e-02 -4.59735245e-02 -4.04123031e-02 -1.17258318e-01\n",
            " -8.47038180e-02 -1.19918911e-02  3.86587880e-03 -2.80037150e-02\n",
            "  7.67783001e-02  8.58697146e-02  3.18619832e-02  9.33961850e-03\n",
            " -4.14356180e-02 -8.24427232e-02 -8.42592716e-02  7.59400874e-02\n",
            "  1.24910772e-02  6.46273196e-02 -4.93758321e-02 -2.34044455e-02\n",
            "  7.83809349e-02  2.41401382e-02  2.89297886e-02  4.40815017e-02\n",
            " -4.72216643e-02  1.73831191e-02  5.08305021e-02  9.21692606e-03\n",
            " -8.58748797e-03  7.23401643e-03  7.89269619e-03 -9.37408805e-02\n",
            "  7.22879246e-02  5.96379675e-02 -4.34659757e-02 -5.92502009e-04\n",
            " -5.33423647e-02  6.18756525e-02  1.37691544e-02  1.28016425e-02\n",
            "  9.61721465e-02  3.59186158e-02 -2.77686547e-02  1.71094630e-02\n",
            " -3.17902537e-03 -1.29323751e-02 -4.14008647e-02  6.39499491e-03\n",
            "  9.89813581e-02  1.54453497e-02  6.50683371e-03  7.30313584e-02\n",
            " -2.59775436e-04 -5.80469109e-02 -1.60569847e-02  7.95020014e-02\n",
            " -1.79671012e-02  1.33599266e-01  1.03698686e-01  3.67354304e-02\n",
            " -2.78302887e-03  9.67550371e-03  1.13949753e-01 -1.89701673e-02\n",
            "  4.32370342e-02 -6.28201291e-02 -2.57652812e-02  2.04122849e-02\n",
            "  4.77289259e-02 -7.69865140e-02 -3.28461938e-02  2.43268032e-02\n",
            " -6.22781217e-02 -6.62844405e-02  6.19336329e-02 -5.11870626e-03\n",
            " -1.91643089e-02  5.62843010e-02 -8.71623755e-02  6.48876419e-03\n",
            " -1.00757778e-02 -4.58467230e-02  9.42446932e-04  6.27785251e-02\n",
            " -6.76728934e-02  9.46556684e-03 -3.86666022e-02  9.74289551e-02\n",
            " -3.16193178e-02 -3.92833352e-02  3.02765686e-02 -2.28822343e-02\n",
            "  4.30653989e-02 -9.13860928e-03 -6.69300416e-03  6.61431253e-02\n",
            " -2.40678657e-02 -1.73878204e-02 -1.84913818e-02 -2.31144056e-02\n",
            " -4.84663099e-02  6.26198649e-02  2.34192722e-02 -2.92817829e-04\n",
            " -5.27975559e-02  3.04438695e-02 -9.40298811e-02  8.60693224e-04\n",
            "  8.22319556e-03 -8.54608566e-02 -7.31901601e-02 -3.66723564e-33\n",
            " -4.60264720e-02 -3.19528505e-02  6.44264072e-02 -5.91625972e-03\n",
            "  1.24685494e-02 -6.57220855e-02 -3.27922069e-02 -6.92588510e-03\n",
            " -8.86936784e-02  6.40125573e-02 -4.75853831e-02  1.18211113e-01\n",
            " -4.72582392e-02  3.99921052e-02  4.32858653e-02 -8.08882993e-03\n",
            " -5.00320084e-03  5.04544154e-02 -4.21110392e-02 -1.13721713e-02\n",
            "  2.98280325e-02 -2.16905326e-02  4.48831655e-02  4.61033061e-02\n",
            "  5.86771928e-02 -9.09085502e-04 -3.02715544e-02 -3.41077186e-02\n",
            "  1.30906373e-01  2.75404621e-02 -2.57859249e-02 -1.34605411e-02\n",
            " -3.14523801e-02 -1.50617249e-02  3.43641937e-02 -3.02167200e-02\n",
            " -1.49327330e-02 -2.81433500e-02  3.89031284e-02  2.78901774e-03\n",
            "  1.86939463e-02  3.20548788e-02  2.51697153e-02  1.59250963e-02\n",
            "  1.87133830e-02  3.53975315e-03  7.34006241e-02 -2.47101057e-02\n",
            "  9.24998075e-02 -7.26387799e-02 -5.11893146e-02 -4.43053730e-02\n",
            "  3.55260782e-02  6.56218454e-02  4.51944061e-02  4.45646718e-02\n",
            "  3.44936885e-02 -8.31724554e-02 -3.36808921e-03  4.61279117e-02\n",
            " -9.07784700e-02  1.01031370e-01  5.01839593e-02 -4.02541496e-02\n",
            " -4.28990759e-02  5.17727733e-02 -4.56630103e-02 -8.84891301e-03\n",
            "  1.22481145e-01  9.17702820e-03 -5.53938113e-02  3.77996899e-02\n",
            " -1.94370877e-02 -5.79988919e-02 -3.18138977e-03 -1.48742832e-02\n",
            "  1.81538891e-02 -7.49786273e-02 -4.49580736e-02 -4.09156233e-02\n",
            " -4.48465580e-03 -9.37113315e-02  3.75744030e-02 -7.06665367e-02\n",
            "  1.42539842e-02  4.76109385e-02 -1.30805532e-02 -9.05760676e-02\n",
            " -3.45206782e-02 -1.37210041e-02 -2.40248926e-02 -3.61299552e-02\n",
            "  8.59287218e-04 -3.10831033e-02 -4.05039564e-02  3.15173251e-33\n",
            " -6.14842623e-02 -3.06787957e-02 -3.57634090e-02  1.05357490e-01\n",
            "  3.40715684e-02  3.23468097e-03 -1.51449703e-02 -2.19676234e-02\n",
            "  2.94501577e-02  7.70196319e-02  3.40259746e-02 -3.02442573e-02\n",
            " -1.06447767e-02  1.11456281e-02  1.19928857e-02  2.21332368e-02\n",
            " -4.10614423e-02 -3.19405049e-02 -1.18286349e-01  6.96878228e-03\n",
            " -3.62506770e-02  9.34621617e-02 -7.35264495e-02 -5.87404370e-02\n",
            "  4.06569652e-02 -2.40829177e-02 -1.77597292e-02 -3.81824300e-02\n",
            "  5.37181608e-02  5.45296520e-02 -7.73839653e-03 -1.98346190e-02\n",
            " -1.01743955e-02 -8.83222818e-02 -4.93132062e-02 -2.98313182e-02\n",
            "  7.12953135e-02 -2.27702837e-02 -3.32863517e-02  1.34104481e-02\n",
            "  4.05099131e-02  5.33066839e-02 -3.08938441e-03  1.61093045e-02\n",
            "  3.88851129e-02 -3.08718928e-03  1.19357780e-02  8.91113654e-02\n",
            "  8.86483304e-03 -3.38718854e-02  9.05874185e-03  2.98077129e-02\n",
            "  3.66552472e-02 -7.49064013e-02  9.59567428e-02  1.52326757e-02\n",
            "  7.12085664e-02  2.71830056e-02 -1.29520148e-01  2.58426908e-02\n",
            " -6.61109537e-02 -1.47465691e-02  5.99888973e-02  9.18924361e-02\n",
            " -2.17109192e-02 -4.73525822e-02  2.24385858e-02 -4.24119234e-02\n",
            " -6.97002411e-02 -8.43698233e-02  8.63779411e-02  2.88398080e-02\n",
            " -8.86257831e-03  9.45227779e-03 -3.14482898e-02 -2.09632609e-02\n",
            " -4.41966094e-02  4.47964221e-02 -4.42678630e-02  8.82534236e-02\n",
            "  5.02111316e-02 -4.92137186e-02  1.03685837e-02  8.49059150e-02\n",
            "  3.38502228e-02  9.72741246e-02  2.88773626e-02 -4.37987112e-02\n",
            " -5.28404079e-02 -6.35622516e-02 -7.60669336e-02 -1.08584194e-02\n",
            " -8.25232416e-02 -1.29514337e-02  4.05908413e-02 -1.29803581e-08\n",
            "  1.63648389e-02 -5.60303889e-02  8.69761631e-02 -7.70740584e-02\n",
            "  4.55217808e-02  2.06241366e-02 -3.17675509e-02  8.23968649e-02\n",
            " -5.26491553e-02  1.79641321e-02  9.52162594e-02  5.06964624e-02\n",
            " -5.57701215e-02 -2.42050993e-03  6.59163222e-02 -7.98457116e-03\n",
            "  1.40037611e-01 -9.61043686e-02 -1.12673920e-03  9.07740667e-02\n",
            " -7.82936439e-03  7.79619589e-02 -4.81220633e-02  3.13962325e-02\n",
            "  4.33538742e-02  7.13308714e-03  2.93225851e-02  2.42676716e-02\n",
            "  2.96271220e-02 -5.21887140e-03 -9.52436309e-03 -5.76931983e-02\n",
            "  2.35163495e-02  5.07314689e-03  6.76921532e-02 -1.42453173e-02\n",
            "  5.53752221e-02  7.62052042e-03 -1.75329093e-02 -5.36727272e-02\n",
            " -2.77576968e-02  7.79471695e-02 -5.45464233e-02 -1.05519511e-03\n",
            " -1.54110091e-02  5.55909798e-02  6.84599951e-02  6.92179473e-03\n",
            "  3.49369794e-02  7.47499391e-02 -6.45103864e-03 -4.38702758e-03\n",
            " -1.27527025e-02  2.81216912e-02  7.36054927e-02  3.46375480e-02\n",
            " -6.76583499e-02 -4.34454618e-04 -6.48296103e-02  7.16900751e-02\n",
            "  9.88517627e-02  2.54689865e-02 -1.71445608e-02 -2.79229414e-02]\n"
          ]
        }
      ]
    },
    {
      "cell_type": "markdown",
      "source": [
        "2. Зображення"
      ],
      "metadata": {
        "id": "T_BQ7sROKE0G"
      }
    },
    {
      "cell_type": "code",
      "source": [
        "from PIL import Image\n",
        "import numpy as np\n",
        "\n",
        "image = Image.open(\"car5.jpg\").convert(\"L\")  # Чорно-біле зображення\n",
        "image_vector = np.array(image).flatten()\n",
        "image_vector"
      ],
      "metadata": {
        "colab": {
          "base_uri": "https://localhost:8080/"
        },
        "id": "FYFSMFYSLQfn",
        "outputId": "6a314fef-1c97-4254-9544-78b47a075b14"
      },
      "execution_count": 10,
      "outputs": [
        {
          "output_type": "execute_result",
          "data": {
            "text/plain": [
              "array([200, 203, 208, ..., 154, 154, 153], dtype=uint8)"
            ]
          },
          "metadata": {},
          "execution_count": 10
        }
      ]
    },
    {
      "cell_type": "code",
      "source": [
        "from tensorflow.keras.applications import VGG16\n",
        "from tensorflow.keras.preprocessing.image import img_to_array, load_img\n",
        "import numpy as np\n",
        "\n",
        "model = VGG16(weights=\"imagenet\", include_top=False)\n",
        "image = load_img(\"car5.jpg\", target_size=(224, 224))\n",
        "image_array = img_to_array(image)\n",
        "image_array = np.expand_dims(image_array, axis=0)\n",
        "image_array\n"
      ],
      "metadata": {
        "colab": {
          "base_uri": "https://localhost:8080/"
        },
        "collapsed": true,
        "id": "wSPXsuuUM1VG",
        "outputId": "7a09647c-dc50-4eac-9288-a741d300d366"
      },
      "execution_count": 12,
      "outputs": [
        {
          "output_type": "execute_result",
          "data": {
            "text/plain": [
              "array([[[[203., 221., 235.],\n",
              "         [212., 226., 239.],\n",
              "         [213., 225., 237.],\n",
              "         ...,\n",
              "         [255., 255., 255.],\n",
              "         [255., 255., 255.],\n",
              "         [255., 255., 255.]],\n",
              "\n",
              "        [[190., 204., 217.],\n",
              "         [189., 203., 216.],\n",
              "         [203., 217., 230.],\n",
              "         ...,\n",
              "         [255., 255., 255.],\n",
              "         [255., 255., 255.],\n",
              "         [255., 255., 255.]],\n",
              "\n",
              "        [[213., 225., 237.],\n",
              "         [196., 210., 223.],\n",
              "         [199., 212., 228.],\n",
              "         ...,\n",
              "         [255., 255., 255.],\n",
              "         [255., 255., 255.],\n",
              "         [255., 255., 255.]],\n",
              "\n",
              "        ...,\n",
              "\n",
              "        [[ 30.,  19.,  23.],\n",
              "         [ 31.,  20.,  24.],\n",
              "         [ 32.,  21.,  25.],\n",
              "         ...,\n",
              "         [192., 175., 159.],\n",
              "         [194., 177., 161.],\n",
              "         [193., 178., 159.]],\n",
              "\n",
              "        [[ 31.,  20.,  24.],\n",
              "         [ 32.,  21.,  25.],\n",
              "         [ 32.,  21.,  25.],\n",
              "         ...,\n",
              "         [181., 164., 148.],\n",
              "         [183., 166., 150.],\n",
              "         [181., 166., 147.]],\n",
              "\n",
              "        [[ 31.,  20.,  24.],\n",
              "         [ 32.,  21.,  25.],\n",
              "         [ 31.,  20.,  24.],\n",
              "         ...,\n",
              "         [180., 163., 147.],\n",
              "         [184., 167., 151.],\n",
              "         [182., 169., 152.]]]], dtype=float32)"
            ]
          },
          "metadata": {},
          "execution_count": 12
        }
      ]
    },
    {
      "cell_type": "markdown",
      "source": [
        "3. Категоріальні дані"
      ],
      "metadata": {
        "id": "Xm3KxZFRNcuV"
      }
    },
    {
      "cell_type": "code",
      "source": [
        "from sklearn.preprocessing import OneHotEncoder\n",
        "\n",
        "categories = [[\"dog\"], [\"cat\"], [\"boy\"]]\n",
        "encoder = OneHotEncoder(sparse_output=False)\n",
        "vector = encoder.fit_transform(categories)\n",
        "print(vector)"
      ],
      "metadata": {
        "colab": {
          "base_uri": "https://localhost:8080/"
        },
        "id": "mTCyK7v6NfHX",
        "outputId": "e696ff4d-9475-49d8-e7f6-6b61ebf86af4"
      },
      "execution_count": 16,
      "outputs": [
        {
          "output_type": "stream",
          "name": "stdout",
          "text": [
            "[[0. 0. 1.]\n",
            " [0. 1. 0.]\n",
            " [1. 0. 0.]]\n"
          ]
        }
      ]
    },
    {
      "cell_type": "markdown",
      "source": [
        "4. Часові ряди"
      ],
      "metadata": {
        "id": "kHdRMSLIN4w0"
      }
    },
    {
      "cell_type": "code",
      "source": [
        "import numpy as np\n",
        "\n",
        "time_series = [30, 32, 31, 29, 28, 27]\n",
        "window_size = 2\n",
        "vectors = [time_series[i:i+window_size] for i in range(len(time_series) - window_size + 1)]\n",
        "print(vectors)"
      ],
      "metadata": {
        "colab": {
          "base_uri": "https://localhost:8080/"
        },
        "id": "ROTVhyrfN5WZ",
        "outputId": "b656fe43-7751-46c6-d7d5-f432b5b841b2"
      },
      "execution_count": 18,
      "outputs": [
        {
          "output_type": "stream",
          "name": "stdout",
          "text": [
            "[[30, 32], [32, 31], [31, 29], [29, 28], [28, 27]]\n"
          ]
        }
      ]
    },
    {
      "cell_type": "markdown",
      "source": [
        "5. Графи\n",
        "Вузли графа можна представити у вигляді векторів за допомогою алгоритмів, таких як Node2Vec."
      ],
      "metadata": {
        "id": "HE1iCt80OSNi"
      }
    },
    {
      "cell_type": "code",
      "source": [
        "#!pip install node2vec\n",
        "from node2vec import Node2Vec\n",
        "\n",
        "# Створення графа\n",
        "from networkx import Graph\n",
        "graph = Graph()\n",
        "graph.add_edges_from([(1, 2), (2, 3), (3, 4), (4, 5)])\n",
        "\n",
        "node2vec = Node2Vec(graph, dimensions=64, walk_length=30, num_walks=200, workers=4)\n",
        "model = node2vec.fit()\n",
        "vector = model.wv[1]\n",
        "print(vector)\n"
      ],
      "metadata": {
        "colab": {
          "base_uri": "https://localhost:8080/",
          "height": 396,
          "referenced_widgets": [
            "0c07b0eae69f456aafc34e87d15c06aa",
            "d123189458f242d8bc590a3ec5546c59",
            "f8694605fc504e17ab182222ee9779eb",
            "1c281851b3bb4098b5798f235444ead4",
            "c87a39cb5c3f44cf958084dd5a3bcbe0",
            "ba36f946f30b4dd9b6c4d082a73c40bc",
            "8343fbdc1d984751940abed3f2cdb807",
            "b39b09914b38471e9b0311b0f9ec309b",
            "29d3c363b29a418fb82759ed27e534ee",
            "c8398cfbe05c4ce0bd235b7bcb6a3f47",
            "9881df8e21464bf69bb13b9dffeeaacb"
          ]
        },
        "id": "4noSmOqcOVJy",
        "outputId": "6bc7e5ec-95ee-45d4-f2a5-ded8f9aa3512"
      },
      "execution_count": 21,
      "outputs": [
        {
          "output_type": "stream",
          "name": "stdout",
          "text": [
            "Requirement already satisfied: node2vec in /usr/local/lib/python3.10/dist-packages (0.5.0)\n",
            "Requirement already satisfied: gensim<5.0.0,>=4.3.0 in /usr/local/lib/python3.10/dist-packages (from node2vec) (4.3.3)\n",
            "Requirement already satisfied: joblib<2.0.0,>=1.4.0 in /usr/local/lib/python3.10/dist-packages (from node2vec) (1.4.2)\n",
            "Requirement already satisfied: networkx<4.0.0,>=3.1.0 in /usr/local/lib/python3.10/dist-packages (from node2vec) (3.4.2)\n",
            "Requirement already satisfied: numpy<2.0.0,>=1.24.0 in /usr/local/lib/python3.10/dist-packages (from node2vec) (1.26.4)\n",
            "Requirement already satisfied: tqdm<5.0.0,>=4.66.1 in /usr/local/lib/python3.10/dist-packages (from node2vec) (4.66.6)\n",
            "Requirement already satisfied: scipy<1.14.0,>=1.7.0 in /usr/local/lib/python3.10/dist-packages (from gensim<5.0.0,>=4.3.0->node2vec) (1.13.1)\n",
            "Requirement already satisfied: smart-open>=1.8.1 in /usr/local/lib/python3.10/dist-packages (from gensim<5.0.0,>=4.3.0->node2vec) (7.0.5)\n",
            "Requirement already satisfied: wrapt in /usr/local/lib/python3.10/dist-packages (from smart-open>=1.8.1->gensim<5.0.0,>=4.3.0->node2vec) (1.16.0)\n"
          ]
        },
        {
          "output_type": "display_data",
          "data": {
            "text/plain": [
              "Computing transition probabilities:   0%|          | 0/5 [00:00<?, ?it/s]"
            ],
            "application/vnd.jupyter.widget-view+json": {
              "version_major": 2,
              "version_minor": 0,
              "model_id": "0c07b0eae69f456aafc34e87d15c06aa"
            }
          },
          "metadata": {}
        },
        {
          "output_type": "stream",
          "name": "stdout",
          "text": [
            "[-0.03967557  0.03244475  0.0620008   0.1315835  -0.05803782 -0.09086406\n",
            "  0.14321901  0.29268408 -0.02413264 -0.08300906  0.20349064  0.10336658\n",
            "  0.23037398  0.04410848 -0.1872265  -0.1456283  -0.08360355  0.20693286\n",
            "  0.05768847  0.07010776  0.07401585  0.11476591  0.3024257  -0.24145621\n",
            "  0.02957265  0.19966988 -0.0930995   0.08234493  0.05287023 -0.02416394\n",
            "  0.08167986  0.06705478 -0.09664435 -0.19915918  0.00920609  0.13382684\n",
            " -0.10035282  0.1034217   0.26151022 -0.01426589  0.12099417 -0.04356026\n",
            " -0.11177359 -0.03778407 -0.04167233  0.00605954 -0.05578452 -0.18584852\n",
            " -0.17871575  0.17847885  0.06664177  0.22804707  0.07457568  0.20280334\n",
            "  0.08393025 -0.11020422  0.06875103 -0.19360635  0.19264452 -0.26470295\n",
            "  0.12724927 -0.07837293 -0.23101674 -0.00344865]\n"
          ]
        }
      ]
    },
    {
      "cell_type": "markdown",
      "source": [
        "6. Аудіо\n"
      ],
      "metadata": {
        "id": "RgHgFabPOyW3"
      }
    },
    {
      "cell_type": "code",
      "source": [
        "import librosa\n",
        "#uploaded = files.upload()\n",
        "y, sr = librosa.load(\"recording_highlight.wav\")\n",
        "mfccs = librosa.feature.mfcc(y=y, sr=sr, n_mfcc=13)\n",
        "audio_vector = mfccs.flatten()\n",
        "print(audio_vector)"
      ],
      "metadata": {
        "colab": {
          "base_uri": "https://localhost:8080/"
        },
        "id": "aaXFnvcxO26_",
        "outputId": "e4579c8f-d16d-40f5-acf8-a593011ce3ad"
      },
      "execution_count": 24,
      "outputs": [
        {
          "output_type": "stream",
          "name": "stdout",
          "text": [
            "[-4.03606903e+02 -2.05041245e+02 -1.70692886e+02 -1.85010742e+02\n",
            " -1.80854706e+02 -2.52621841e+02 -3.80374512e+02 -3.84668945e+02\n",
            " -3.92312805e+02 -4.05014740e+02 -4.20575775e+02 -4.31522797e+02\n",
            " -4.31768921e+02 -4.37574615e+02 -4.50766235e+02 -4.60816315e+02\n",
            " -4.70881866e+02 -4.80307495e+02 -4.94394531e+02 -5.01236328e+02\n",
            " -5.03114594e+02 -5.10770172e+02 -5.22851013e+02 -5.30952393e+02\n",
            " -5.38179993e+02 -5.39536011e+02 -5.47291504e+02 -5.59395325e+02\n",
            " -5.68192139e+02 -5.67560547e+02 -5.71987122e+02 -5.77633484e+02\n",
            " -5.84220886e+02 -5.90946106e+02 -5.99547302e+02 -6.04069153e+02\n",
            " -6.10633545e+02 -6.11778198e+02 -6.11657471e+02 -6.18044128e+02\n",
            " -6.19964172e+02 -6.24275574e+02 -6.26108887e+02 -6.32662781e+02\n",
            " -6.38471558e+02 -6.40681580e+02 -6.43223572e+02 -6.47851807e+02\n",
            " -6.51075073e+02 -6.52503113e+02 -6.53892212e+02 -6.55572754e+02\n",
            " -6.56964111e+02 -6.57218445e+02 -6.57442810e+02 -6.57442810e+02\n",
            "  2.09882080e+02  1.33120331e+02  1.00520798e+02  9.33827667e+01\n",
            "  8.12995758e+01  1.07428680e+02  1.41731476e+02  1.40156525e+02\n",
            "  1.38714966e+02  1.37384460e+02  1.32665985e+02  1.33269318e+02\n",
            "  1.34017212e+02  1.35250320e+02  1.32546173e+02  1.27583252e+02\n",
            "  1.25016434e+02  1.18130371e+02  1.12827827e+02  1.14089401e+02\n",
            "  1.14062790e+02  1.10543083e+02  9.94475403e+01  9.48300323e+01\n",
            "  9.22603149e+01  9.54460449e+01  9.25854492e+01  8.35922546e+01\n",
            "  7.59617615e+01  7.74112549e+01  7.44534912e+01  6.77443924e+01\n",
            "  6.30924530e+01  5.97768784e+01  5.15985374e+01  4.89226265e+01\n",
            "  4.21270828e+01  4.11723099e+01  4.21298180e+01  3.63567276e+01\n",
            "  3.46542778e+01  2.96964378e+01  2.83726368e+01  2.20292282e+01\n",
            "  1.65870018e+01  1.45396032e+01  1.22301769e+01  8.15564728e+00\n",
            "  5.50932980e+00  4.05880785e+00  2.30329394e+00  1.05546284e+00\n",
            "  2.08193123e-01  9.58471745e-02  0.00000000e+00  0.00000000e+00\n",
            "  2.62102489e+01 -5.06657028e+01 -7.99029388e+01 -8.24742737e+01\n",
            " -1.03217209e+02 -9.37892914e+01 -5.51977692e+01 -5.65868340e+01\n",
            " -5.88502502e+01 -5.66445618e+01 -5.45005417e+01 -5.06205826e+01\n",
            " -5.49296570e+01 -5.35753860e+01 -4.98105927e+01 -4.61170235e+01\n",
            " -4.42036285e+01 -4.47988815e+01 -3.80688629e+01 -3.15226746e+01\n",
            " -2.85790234e+01 -2.60364494e+01 -3.27881546e+01 -3.25818710e+01\n",
            " -2.68171043e+01 -1.93788872e+01 -1.19653645e+01 -9.49129105e+00\n",
            " -1.07877140e+01 -8.98333931e+00 -7.61811495e+00 -1.04854517e+01\n",
            " -8.34917450e+00 -3.49270821e+00 -4.83879709e+00 -1.89654613e+00\n",
            " -2.66431332e+00 -2.00657868e+00 -2.13599145e-01 -7.45806098e-02\n",
            "  2.38551319e-01 -2.54873514e+00 -1.85331881e+00 -2.77544880e+00\n",
            " -3.14106703e+00 -3.09516525e+00 -2.83285093e+00 -2.25292706e+00\n",
            " -1.07990551e+00 -1.39282918e+00 -2.69583750e+00 -1.77118099e+00\n",
            " -5.47991276e-01 -2.59476423e-01  0.00000000e+00  0.00000000e+00\n",
            "  1.98977203e+01  2.70585966e+00 -2.45625095e+01 -3.12199097e+01\n",
            " -4.49623833e+01 -4.81846695e+01 -3.46478386e+01 -3.32458191e+01\n",
            " -3.27600517e+01 -3.25226974e+01 -2.97225380e+01 -3.17846565e+01\n",
            " -3.91213303e+01 -4.55142517e+01 -4.39713326e+01 -4.32137718e+01\n",
            " -4.40308838e+01 -4.32895088e+01 -4.22798386e+01 -4.66700897e+01\n",
            " -4.72942162e+01 -4.60688362e+01 -5.02271805e+01 -5.44885788e+01\n",
            " -5.33532486e+01 -5.24472351e+01 -4.55329514e+01 -4.12987366e+01\n",
            " -4.17217979e+01 -4.14723740e+01 -4.04135857e+01 -4.01763306e+01\n",
            " -3.70977173e+01 -3.39877472e+01 -3.17999115e+01 -2.81566772e+01\n",
            " -2.37818241e+01 -2.27310638e+01 -2.12373314e+01 -1.95735435e+01\n",
            " -1.95846825e+01 -1.98324223e+01 -1.81260452e+01 -1.54407578e+01\n",
            " -1.32082911e+01 -1.19269714e+01 -1.02111797e+01 -6.98577309e+00\n",
            " -3.79854321e+00 -3.47393179e+00 -4.28577518e+00 -2.42173362e+00\n",
            " -5.43776453e-01 -2.52573580e-01  0.00000000e+00  0.00000000e+00\n",
            " -2.55518150e+00 -2.30051804e+01 -4.68067284e+01 -4.12423477e+01\n",
            " -3.04293137e+01 -3.20928116e+01 -3.25463867e+01 -2.96431236e+01\n",
            " -2.87871056e+01 -2.66346111e+01 -2.51230316e+01 -2.21127701e+01\n",
            " -2.55356674e+01 -2.74717293e+01 -2.07106476e+01 -1.96514606e+01\n",
            " -1.79401608e+01 -1.56757069e+01 -1.15444584e+01 -1.52969189e+01\n",
            " -2.05857983e+01 -1.72432709e+01 -1.19961958e+01 -1.45706272e+01\n",
            " -1.83318634e+01 -2.33170967e+01 -2.14374828e+01 -1.87046070e+01\n",
            " -1.79152794e+01 -1.90270462e+01 -2.03873711e+01 -2.02734966e+01\n",
            " -1.93735504e+01 -2.08214874e+01 -1.81265507e+01 -1.79398365e+01\n",
            " -1.35892353e+01 -1.29613380e+01 -1.20023479e+01 -1.35595589e+01\n",
            " -1.60104313e+01 -1.44113674e+01 -1.25454683e+01 -8.87913132e+00\n",
            " -7.48962069e+00 -6.65758705e+00 -5.29678345e+00 -2.67159534e+00\n",
            " -8.90664816e-01 -8.13738286e-01 -9.50013280e-01 -1.99476749e-01\n",
            "  2.12244421e-01  1.06919341e-01  0.00000000e+00  0.00000000e+00\n",
            " -6.17648735e+01 -1.68831387e+01 -3.12520180e+01 -1.93232861e+01\n",
            "  3.01723242e+00  7.58531475e+00 -1.13933086e+01 -1.64756165e+01\n",
            " -1.51357269e+01 -1.38202152e+01 -1.23011932e+01 -1.01709633e+01\n",
            " -1.38962212e+01 -1.47380772e+01 -1.21878815e+01 -1.12442408e+01\n",
            " -1.66043148e+01 -1.46743698e+01 -6.60317898e+00 -4.42041969e+00\n",
            " -8.37198067e+00 -5.38374233e+00  7.58838117e-01  1.72244275e+00\n",
            "  1.59973085e+00 -1.56151533e+00 -3.94107366e+00 -5.07203102e-01\n",
            "  2.60331178e+00  3.09432936e+00  1.63405311e+00  9.89419937e-01\n",
            "  5.86059928e-01  1.14308870e+00  3.15683246e+00  5.93852997e-01\n",
            "  1.05496144e+00  4.11803198e+00  4.73669434e+00  8.62963021e-01\n",
            " -1.73070574e+00 -5.49899161e-01  8.68424177e-01  3.62566328e+00\n",
            "  2.74661350e+00  2.23285556e+00  2.92532802e+00  3.61077428e+00\n",
            "  2.58892322e+00  2.20470977e+00  3.10450268e+00  2.13086176e+00\n",
            "  6.70160949e-01  3.17153454e-01  0.00000000e+00  0.00000000e+00\n",
            " -1.73257542e+01 -3.75706062e+01 -4.98994789e+01 -3.58454819e+01\n",
            " -9.13664532e+00 -1.63526118e-01 -8.79981327e+00 -1.68053341e+01\n",
            " -1.76379414e+01 -1.38121300e+01 -1.09752407e+01 -8.04643631e+00\n",
            " -1.00418072e+01 -8.59081078e+00 -6.07185555e+00 -8.94970131e+00\n",
            " -1.09740334e+01 -6.57082081e+00 -5.84313107e+00 -5.69733667e+00\n",
            " -7.83658123e+00 -7.56229305e+00 -4.96940613e+00 -6.78909397e+00\n",
            " -4.13462448e+00 -6.83633041e+00 -1.00625420e+01 -7.08660793e+00\n",
            " -6.35942125e+00 -3.85969520e+00 -1.69875813e+00 -2.89197969e+00\n",
            " -3.69298530e+00 -7.08688051e-02  1.36862481e+00  6.65586591e-02\n",
            " -2.51792693e+00  4.05139065e+00  4.44749355e+00  1.26131463e+00\n",
            "  4.02034432e-01  1.29045641e+00  2.23535514e+00  4.32915020e+00\n",
            "  2.95278668e+00  2.11226583e+00  2.99137425e+00  3.38416457e+00\n",
            "  1.44985259e+00  1.28952038e+00  3.17478037e+00  1.83679366e+00\n",
            "  1.98251352e-01  8.46463591e-02  0.00000000e+00  0.00000000e+00\n",
            "  1.67855110e+01 -2.88851700e+01 -3.44229355e+01 -3.20249329e+01\n",
            " -1.77050781e+01 -1.42315245e+01 -2.60959187e+01 -2.74990959e+01\n",
            " -2.96538315e+01 -2.73450603e+01 -2.83528671e+01 -2.59553604e+01\n",
            " -2.34538002e+01 -2.17479973e+01 -2.50964279e+01 -2.64587917e+01\n",
            " -2.45236301e+01 -1.97670803e+01 -2.21899033e+01 -2.24152756e+01\n",
            " -2.35097771e+01 -2.25089283e+01 -1.76741390e+01 -1.90130539e+01\n",
            " -1.73935051e+01 -2.06450272e+01 -2.22116394e+01 -2.27178001e+01\n",
            " -2.54969749e+01 -2.31450768e+01 -1.80913849e+01 -1.91177235e+01\n",
            " -1.98070850e+01 -1.82675972e+01 -1.65736771e+01 -1.57705603e+01\n",
            " -1.90804329e+01 -1.21394262e+01 -1.20128727e+01 -1.30095901e+01\n",
            " -1.23666859e+01 -1.06306181e+01 -1.04293461e+01 -7.68454838e+00\n",
            " -6.37902737e+00 -6.01046610e+00 -4.76115799e+00 -3.31218910e+00\n",
            " -3.31695843e+00 -2.49478698e+00 -4.91008639e-01 -5.30222893e-01\n",
            " -5.43593585e-01 -2.66026169e-01  0.00000000e+00  0.00000000e+00\n",
            " -3.30438309e+01 -2.49086742e+01 -2.19660912e+01 -1.89917450e+01\n",
            " -2.08003216e+01 -2.46879864e+01 -2.87582588e+01 -3.19111996e+01\n",
            " -3.40344467e+01 -3.36191940e+01 -3.20475845e+01 -2.68452930e+01\n",
            " -2.34727669e+01 -2.55088425e+01 -3.23357010e+01 -3.16862335e+01\n",
            " -3.33414307e+01 -3.36348419e+01 -3.35687714e+01 -3.02593098e+01\n",
            " -2.94230080e+01 -2.79681396e+01 -2.53876915e+01 -2.41744118e+01\n",
            " -2.32525902e+01 -2.27609978e+01 -2.59722061e+01 -3.02080021e+01\n",
            " -3.16703110e+01 -2.97660999e+01 -2.63015480e+01 -2.56800728e+01\n",
            " -2.57359085e+01 -2.72356033e+01 -2.44328384e+01 -2.43645630e+01\n",
            " -2.67321625e+01 -2.21896019e+01 -2.23228951e+01 -2.22720432e+01\n",
            " -2.01399498e+01 -1.77630577e+01 -1.89384727e+01 -1.60339050e+01\n",
            " -1.17521572e+01 -1.02836761e+01 -9.80233479e+00 -8.65694141e+00\n",
            " -6.19586277e+00 -4.47016239e+00 -3.41508150e+00 -2.05546641e+00\n",
            " -5.26314616e-01 -2.45333835e-01  0.00000000e+00  0.00000000e+00\n",
            " -3.30017776e+01  6.16766357e+00  1.30047455e+01  5.32771468e-01\n",
            " -1.38413591e+01 -1.98977242e+01 -1.98883686e+01 -2.19566116e+01\n",
            " -2.13919144e+01 -1.97366390e+01 -2.12658539e+01 -2.08519707e+01\n",
            " -1.70813255e+01 -1.85317593e+01 -2.09008751e+01 -2.18673058e+01\n",
            " -2.06241932e+01 -2.22219353e+01 -2.31138802e+01 -1.71629581e+01\n",
            " -1.81285591e+01 -1.57810450e+01 -1.60795555e+01 -1.56827755e+01\n",
            " -1.59629364e+01 -1.54959259e+01 -2.03578968e+01 -2.31284237e+01\n",
            " -2.24800129e+01 -2.06458797e+01 -2.00608406e+01 -1.85179443e+01\n",
            " -1.78292503e+01 -1.79470577e+01 -1.37185307e+01 -1.47958698e+01\n",
            " -1.47753620e+01 -1.29435692e+01 -1.31032162e+01 -1.47691317e+01\n",
            " -1.16311798e+01 -8.50123882e+00 -1.03741798e+01 -8.98989105e+00\n",
            " -5.13015699e+00 -4.31885862e+00 -5.67903614e+00 -6.58082581e+00\n",
            " -4.06810379e+00 -2.34210181e+00 -2.38754368e+00 -1.10719430e+00\n",
            "  2.19113588e-01  1.17844433e-01  0.00000000e+00  0.00000000e+00\n",
            " -4.75395381e-01 -3.60239124e+00  5.30485249e+00  3.41555357e+00\n",
            " -6.03792763e+00 -8.30413342e+00 -1.35151613e+00 -2.80449820e+00\n",
            " -4.68167782e+00 -1.98660660e+00 -7.15315199e+00 -1.10827579e+01\n",
            " -4.69494963e+00 -3.49485230e+00 -4.26550961e+00 -7.48632574e+00\n",
            " -9.85674286e+00 -9.06859779e+00 -1.15669727e+01 -8.22471142e+00\n",
            " -8.92136478e+00 -5.26755333e+00 -4.30725908e+00 -1.94015157e+00\n",
            " -2.49257302e+00 -7.41973972e+00 -8.75746822e+00 -5.54708767e+00\n",
            " -5.91195679e+00 -5.45191336e+00 -6.48601007e+00 -4.90267992e+00\n",
            " -3.99281359e+00  3.88762236e-01  4.30061674e+00  3.65372896e+00\n",
            "  5.50819206e+00  6.26261616e+00  5.64963055e+00  2.62800598e+00\n",
            "  6.37441492e+00  9.22867584e+00  7.79645538e+00  7.19453335e+00\n",
            "  7.71293545e+00  6.12391567e+00  3.58921027e+00  6.50962591e-01\n",
            "  4.13852394e-01  1.29087317e+00  1.08763313e+00  9.22771454e-01\n",
            "  6.52614236e-01  3.16509485e-01  0.00000000e+00  0.00000000e+00\n",
            " -2.48160706e+01 -1.12904911e+01  1.16444385e+00  8.23187256e+00\n",
            "  1.33640957e+00  1.85712326e+00  5.34278488e+00  5.98163700e+00\n",
            "  1.26361871e+00 -2.00151277e+00 -4.88305616e+00 -6.31592941e+00\n",
            " -1.25969863e+00  7.11805153e+00  9.66778278e+00  6.62731266e+00\n",
            "  3.71156502e+00  4.35490799e+00 -7.29480147e-01 -1.73555231e+00\n",
            "  3.64042091e+00  5.36045265e+00  2.28547096e+00  5.84821701e+00\n",
            "  8.91088295e+00  3.28081584e+00  5.01451826e+00  9.57807732e+00\n",
            "  8.67357826e+00  7.15474749e+00  5.82017851e+00  7.27708149e+00\n",
            "  7.16806126e+00  1.23963099e+01  1.35645256e+01  1.45033808e+01\n",
            "  1.61535683e+01  1.67456398e+01  1.53640242e+01  1.28208122e+01\n",
            "  1.59582462e+01  1.79791489e+01  1.73735542e+01  1.62645397e+01\n",
            "  1.40468578e+01  1.04794588e+01  8.58789349e+00  5.75833845e+00\n",
            "  2.54394817e+00  2.53706503e+00  3.05504847e+00  1.63310194e+00\n",
            "  1.76348329e-01  7.33304992e-02  0.00000000e+00  0.00000000e+00\n",
            " -2.87747803e+01 -1.36537361e+01 -2.37306190e+00  1.83758774e+01\n",
            "  2.85193996e+01  2.53628635e+01  1.37159481e+01  1.35191727e+01\n",
            "  8.63257599e+00  8.59526730e+00  1.06644850e+01  5.27253675e+00\n",
            "  7.15409660e+00  1.55027714e+01  1.42049341e+01  1.14335251e+01\n",
            "  1.32161808e+01  1.28443956e+01  7.34395504e+00  7.08223820e+00\n",
            "  1.23691273e+01  1.24300165e+01  4.69170189e+00  4.55113125e+00\n",
            "  1.24754620e+01  9.28883266e+00  1.01068153e+01  1.03534546e+01\n",
            "  1.12364273e+01  1.03680677e+01  1.05304375e+01  1.11980553e+01\n",
            "  8.47856331e+00  8.44213486e+00  6.94273615e+00  9.92850113e+00\n",
            "  1.14599466e+01  1.08435688e+01  9.42584610e+00  6.81550980e+00\n",
            "  7.67479515e+00  1.05610924e+01  1.06212616e+01  1.04491816e+01\n",
            "  8.02740097e+00  5.10662079e+00  4.73769951e+00  4.56650639e+00\n",
            "  1.00154161e+00  7.61741519e-01  1.71173084e+00  4.95839745e-01\n",
            " -5.38933277e-01 -2.72218704e-01  0.00000000e+00  0.00000000e+00]\n"
          ]
        }
      ]
    },
    {
      "cell_type": "markdown",
      "source": [
        "7. Географічні дані\n",
        "Координати, наприклад, довгота і широта, вже є векторами."
      ],
      "metadata": {
        "id": "TysjONGfQGDr"
      }
    },
    {
      "cell_type": "code",
      "source": [
        "coordinates = [49.8397, 24.0297]  # Львів"
      ],
      "metadata": {
        "id": "2Vgpd07cQHqh"
      },
      "execution_count": null,
      "outputs": []
    },
    {
      "cell_type": "markdown",
      "source": [
        "Загалом ще дуже багато речей де використовуються вектори але знаймоство на цьому завершаю"
      ],
      "metadata": {
        "id": "yq9AyiY7QPlF"
      }
    },
    {
      "cell_type": "markdown",
      "source": [
        "# Операції з векторами\n"
      ],
      "metadata": {
        "id": "7evE_TVmQYwL"
      }
    },
    {
      "cell_type": "markdown",
      "source": [
        "Вручну нічого рахувати не потрібно але потрібно розуміти принципи та концепції за якими воно рахується\n"
      ],
      "metadata": {
        "id": "Qo4bOJnKQgBa"
      }
    }
  ]
}